{
 "cells": [
  {
   "cell_type": "code",
   "execution_count": 49,
   "metadata": {},
   "outputs": [],
   "source": [
    "import psycopg2\n",
    "from psycopg2.extras import RealDictCursor\n",
    "conn = psycopg2.connect(\"dbname=mist user=postgres password=ajipriy0123\")\n",
    "cur = conn.cursor(cursor_factory=RealDictCursor)\n",
    "import json\n",
    "from datetime import datetime\n"
   ]
  },
  {
   "cell_type": "code",
   "execution_count": 43,
   "metadata": {},
   "outputs": [
    {
     "name": "stdout",
     "output_type": "stream",
     "text": [
      "{'id': 604458, 'dateofbirth': None, 'currentactionpoints': 25, 'actionpointsrestoredat': '2022-05-22 03:54:04', 'isadult': True, 'money': '10000', 'gem': '1000', 'freegem': '1000', 'Level': 1, 'totalexperience': '0', 'maxactionpoints': '25', 'totalfieldskillcost': '20', 'displayuserid': 'NXL6W2GNA1YC', 'currentlogincount': 0}\n"
     ]
    }
   ],
   "source": [
    "cur.execute(\"select * from public.users where id = 604458\")\n",
    "a = json.dumps(cur.fetchone(), default=str)\n",
    "a = json.loads(a)\n",
    "print(a)"
   ]
  },
  {
   "cell_type": "code",
   "execution_count": 58,
   "metadata": {},
   "outputs": [
    {
     "name": "stdout",
     "output_type": "stream",
     "text": [
      "2022-05-22T03:54:04:000000\n"
     ]
    }
   ],
   "source": [
    "print(datetime.strftime(datetime.strptime(a['actionpointsrestoredat'], \"%Y-%m-%d %H:%M:%S\"), \"%Y-%m-%dT%H:%M:%S:%f\"))"
   ]
  },
  {
   "cell_type": "markdown",
   "metadata": {},
   "source": []
  }
 ],
 "metadata": {
  "interpreter": {
   "hash": "f2f09b7849a8e4935dbd7604ebc32b963a578ecbab7538799e8026e1f582193b"
  },
  "kernelspec": {
   "display_name": "Python 3.10.4 ('privser')",
   "language": "python",
   "name": "python3"
  },
  "language_info": {
   "codemirror_mode": {
    "name": "ipython",
    "version": 3
   },
   "file_extension": ".py",
   "mimetype": "text/x-python",
   "name": "python",
   "nbconvert_exporter": "python",
   "pygments_lexer": "ipython3",
   "version": "3.10.4"
  },
  "orig_nbformat": 4
 },
 "nbformat": 4,
 "nbformat_minor": 2
}
